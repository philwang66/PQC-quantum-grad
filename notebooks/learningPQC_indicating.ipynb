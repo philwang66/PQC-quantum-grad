{
 "cells": [
  {
   "cell_type": "markdown",
   "metadata": {},
   "source": [
    "# The notebook is to demonstrate Indicating problem"
   ]
  },
  {
   "cell_type": "markdown",
   "metadata": {},
   "source": [
    "Generate $|z'\\rangle$ from quantum part\n",
    "\n",
    "2-regular graph with 4 nodes(a ring with $Z_4=Z_0$)\n",
    "    \\begin{eqnarray}\n",
    "        H_c=-\\sum_{i=0}^3\\frac{Z_iZ_{i+1}}{2},\\quad  H_b =\\sum_{i=0}^3 X_i .\n",
    "    \\end{eqnarray}"
   ]
  },
  {
   "cell_type": "code",
   "execution_count": 1,
   "metadata": {},
   "outputs": [],
   "source": [
    "import numpy as np\n",
    "from scipy.optimize import minimize\n",
    "from scipy.linalg import expm\n",
    "from qulacs import QuantumCircuitSimulator\n",
    "\n",
    "# Tensor product function\n",
    "def tensor_product(*args):\n",
    "    result = np.array([1])\n",
    "    for arg in args:\n",
    "        result = np.kron(result, arg)\n",
    "    return result\n",
    "\n",
    "# Unitary evolution operators\n",
    "def unitary(H, theta):\n",
    "    return expm(-1j*H*theta)\n",
    "\n",
    "\n",
    "# Full circuit\n",
    "def apply_circuit(gamma, beta, p, initial_state, H_c,H_b):\n",
    "    state = initial_state\n",
    "    # Define the Hamiltonians H_c and H_b\n",
    "    for _ in range(p):\n",
    "        state = unitary(H_c, gamma) @ state\n",
    "        state = unitary(H_b, beta) @ state\n",
    "    return state\n",
    "\n",
    "\n",
    "# Cost function\n",
    "def cost_function(params, p, initial_state, H_c, H_b):\n",
    "    gamma, beta = params\n",
    "  \n",
    "    final_state = apply_circuit(gamma, beta, p, initial_state, H_c, H_b)\n",
    "    expectation_value = np.real(np.vdot(final_state, H_c @ final_state))\n",
    "    \n",
    "    # Increment the counter and print every 10 iterations\n",
    "    global iteration_counter\n",
    "    iteration_counter += 1\n",
    "    if iteration_counter % 10 == 0:\n",
    "        print(f'Iteration: {iteration_counter}, gamma: {gamma:.4f}, beta: {beta:.4f}, cost: {expectation_value:.4f}')\n",
    "\n",
    "    \n",
    "    \n",
    "    return expectation_value\n",
    "\n",
    "\n",
    "def find_ground_energy(hamiltonian):\n",
    "    \"\"\"\n",
    "    Find the ground energy of a Hamiltonian.\n",
    "    \n",
    "    Parameters:\n",
    "    hamiltonian (np.ndarray): The Hamiltonian matrix.\n",
    "    \n",
    "    Returns:\n",
    "    float: The ground energy (lowest eigenvalue) of the Hamiltonian.\n",
    "    \"\"\"\n",
    "    # Calculate the eigenvalues of the Hamiltonian\n",
    "    eigenvalues = np.linalg.eigvalsh(hamiltonian)\n",
    "    \n",
    "    # Return the smallest eigenvalue\n",
    "    return np.min(eigenvalues)"
   ]
  },
  {
   "cell_type": "markdown",
   "metadata": {},
   "source": [
    "Pre-train with an initial PQC, circuit formulates like this: $[e ^{-i H_b \\beta}e^{-iH_c \\gamma}]$"
   ]
  },
  {
   "cell_type": "code",
   "execution_count": 2,
   "metadata": {},
   "outputs": [
    {
     "name": "stdout",
     "output_type": "stream",
     "text": [
      "Iteration: 10, gamma: 0.2995, beta: 1.3990, cost: -1.1816\n",
      "Iteration: 20, gamma: 0.3939, beta: 1.1865, cost: -1.9988\n",
      "Iteration: 30, gamma: 0.3925, beta: 1.1776, cost: -2.0000\n",
      "Iteration: 40, gamma: 0.3926, beta: 1.1781, cost: -2.0000\n",
      "Optimal gamma: 0.3926177463928006, Optimal beta: 1.1781227514385042\n",
      "-4.0\n"
     ]
    }
   ],
   "source": [
    "# Define Pauli matrices\n",
    "I = np.eye(2)\n",
    "X = np.array([[0, 1], [1, 0]])\n",
    "Y = np.array([[0, -1j], [1j, 0]])\n",
    "Z = np.array([[1, 0], [0, -1]])\n",
    "\n",
    "# Initial state |+>^4 = (|0> + |1>)/sqrt(2) ⊗ 4\n",
    "initial_state = tensor_product(np.array([1, 1]) / np.sqrt(2), \n",
    "                               np.array([1, 1]) / np.sqrt(2),\n",
    "                               np.array([1, 1]) / np.sqrt(2),\n",
    "                               np.array([1, 1]) / np.sqrt(2))\n",
    "# Define the Hamiltonians H_c and H_b\n",
    "H_c = -(tensor_product(Z, Z, I, I)+tensor_product(I, Z, Z, I)+tensor_product(I, I, Z, Z)+tensor_product(Z, I, I, Z))\n",
    "H_b = tensor_product(X, I, I, I)+tensor_product(I, X, I, I)+tensor_product(I, I, X, I)+tensor_product(I, I, I, X)  \n",
    "\n",
    "# Global iteration counter\n",
    "iteration_counter = 0\n",
    "\n",
    "# Optimize using scipy\n",
    "p = 1  # Number of layers\n",
    "initial_params = np.random.rand(2)  # Initial guess for gamma and beta\n",
    "\n",
    "result = minimize(cost_function, initial_params, args=(p,initial_state, H_c, H_b,), method='COBYLA')\n",
    "optimal_gamma, optimal_beta = result.x\n",
    "\n",
    "print(f'Optimal gamma: {optimal_gamma}, Optimal beta: {optimal_beta}')\n",
    "\n",
    "\n",
    "temp_eig3 = find_ground_energy(H_c)\n",
    "print(temp_eig3)"
   ]
  },
  {
   "cell_type": "markdown",
   "metadata": {},
   "source": [
    "Then, using quantum gradient algorithm, we can obtain an updated $|z'\\rangle$"
   ]
  },
  {
   "cell_type": "code",
   "execution_count": 8,
   "metadata": {},
   "outputs": [],
   "source": [
    "def fidelity(state1, state2):\n",
    "\n",
    "    state1 = np.asarray(state1)\n",
    "    state2 = np.asarray(state2)\n",
    "    \n",
    "#     print(np.vdot(state1, state1))\n",
    "    # Normalize the states\n",
    "    state1 = state1 / np.linalg.norm(state1)\n",
    "    state2 = state2 / np.linalg.norm(state2)\n",
    "    \n",
    "    # Calculate the fidelity\n",
    "    fidelity_value = np.abs(np.vdot(state1, state2))**2\n",
    "    \n",
    "    return fidelity_value\n",
    "\n",
    "\n",
    "def gradient(hamiltonian, xi):\n",
    "    \"\"\"\n",
    "    Compute the gradient of the Hamiltonian with respect to a parameter.\n",
    "\n",
    "    Parameters:\n",
    "    hamiltonian (numpy.ndarray): The Hamiltonian matrix.\n",
    "    xi (float): The scalar value representing the parameter with respect to which \n",
    "                the gradient is being computed.\n",
    "\n",
    "    Returns:\n",
    "    numpy.ndarray: The gradient matrix, which is the Hamiltonian scaled by the parameter xi.\n",
    "    \"\"\"\n",
    "    \n",
    "    # Compute the gradient by scaling the Hamiltonian with the parameter xi\n",
    "    gradient = xi * hamiltonian\n",
    "    \n",
    "    # Return the resulting gradient matrix\n",
    "    return gradient\n",
    "\n",
    "def PQC_RL(env):\n",
    "    \"\"\"\n",
    "    Compute parameterized quantum circuit that tranform state_in to state_out.\n",
    "\n",
    "    Parameters:\n",
    "        env (): the defined environment with correspoding initial and target state.\n",
    "\n",
    "    Returns:\n",
    "        info (dict): with key 'fidelity', 'circuit'\n",
    "        ...: the learned policy.\n",
    "    \"\"\"\n",
    "\n",
    "\n",
    "    # Parameters\n",
    "    gamma = 0.99\n",
    "    n_epochs = 4\n",
    "    clip_range = 0.2\n",
    "    learning_rate = 0.0001\n",
    "    policy_kwargs = dict(optimizer_class=optim.Adam)\n",
    "\n",
    "    # Agent\n",
    "    ppo_model = PPO(\"MlpPolicy\",\n",
    "                    env,\n",
    "                    gamma=gamma,\n",
    "                    n_epochs=n_epochs,\n",
    "                    clip_range=clip_range,\n",
    "                    learning_rate=learning_rate,\n",
    "                    policy_kwargs=policy_kwargs,\n",
    "                    tensorboard_log='logs/')\n",
    "    \n",
    "    ppo_model.learn(total_timesteps=10000)\n",
    "    \n",
    "    # simulate to get fidelity\n",
    "    state = env.reset()\n",
    "    print(state)\n",
    "    done = False\n",
    "    while not done:\n",
    "        action = ppo_model.predict(state)\n",
    "        state, reward, done, info = env.step(action[0])\n",
    "        #展示当前的线路 和 state\n",
    "        # env.render()\n",
    "        # print(state)\n",
    "        # print(info['fidelity'])\n",
    "    return info,ppo_model\n",
    "\n"
   ]
  },
  {
   "cell_type": "code",
   "execution_count": 9,
   "metadata": {},
   "outputs": [
    {
     "name": "stdout",
     "output_type": "stream",
     "text": [
      "------------------Iteration 0: -----------------------\n",
      "\n",
      "initial fidelity 0.9074: \n"
     ]
    },
    {
     "name": "stderr",
     "output_type": "stream",
     "text": [
      "C:\\Users\\Mac\\AppData\\Roaming\\Python\\Python311\\site-packages\\stable_baselines3\\common\\vec_env\\patch_gym.py:49: UserWarning: You provided an OpenAI Gym environment. We strongly recommend transitioning to Gymnasium environments. Stable-Baselines3 is automatically wrapping your environments in a compatibility layer, which could potentially cause issues.\n",
      "  warnings.warn(\n",
      "C:\\Users\\Mac\\AppData\\Roaming\\Python\\Python311\\site-packages\\gym\\utils\\passive_env_checker.py:174: UserWarning: \u001b[33mWARN: Future gym versions will require that `Env.reset` can be passed a `seed` instead of using `Env.seed` for resetting the environment random number generator.\u001b[0m\n",
      "  logger.warn(\n",
      "C:\\Users\\Mac\\AppData\\Roaming\\Python\\Python311\\site-packages\\gym\\utils\\passive_env_checker.py:187: UserWarning: \u001b[33mWARN: Future gym versions will require that `Env.reset` can be passed `options` to allow the environment initialisation to be passed additional information.\u001b[0m\n",
      "  logger.warn(\n",
      "C:\\Users\\Mac\\AppData\\Roaming\\Python\\Python311\\site-packages\\gym\\utils\\passive_env_checker.py:195: UserWarning: \u001b[33mWARN: The result returned by `env.reset()` was not a tuple of the form `(obs, info)`, where `obs` is a observation and `info` is a dictionary containing additional information. Actual type: `<class 'numpy.ndarray'>`\u001b[0m\n",
      "  logger.warn(\n",
      "C:\\Users\\Mac\\AppData\\Roaming\\Python\\Python311\\site-packages\\gym\\utils\\passive_env_checker.py:219: DeprecationWarning: \u001b[33mWARN: Core environment is written in old step API which returns one bool instead of two. It is recommended to rewrite the environment with new step API. \u001b[0m\n",
      "  logger.deprecation(\n",
      "C:\\Users\\Mac\\AppData\\Roaming\\Python\\Python311\\site-packages\\gym\\utils\\passive_env_checker.py:225: DeprecationWarning: `np.bool8` is a deprecated alias for `np.bool_`.  (Deprecated NumPy 1.24)\n",
      "  if not isinstance(done, (bool, np.bool8)):\n",
      "C:\\Users\\Mac\\AppData\\Roaming\\Python\\Python311\\site-packages\\gym\\utils\\passive_env_checker.py:141: UserWarning: \u001b[33mWARN: The obs returned by the `step()` method was expecting numpy array dtype to be float32, actual type: float64\u001b[0m\n",
      "  logger.warn(\n",
      "C:\\Users\\Mac\\AppData\\Roaming\\Python\\Python311\\site-packages\\gym\\utils\\passive_env_checker.py:165: UserWarning: \u001b[33mWARN: The obs returned by the `step()` method is not within the observation space.\u001b[0m\n",
      "  logger.warn(f\"{pre} is not within the observation space.\")\n"
     ]
    },
    {
     "name": "stdout",
     "output_type": "stream",
     "text": [
      "[ 5.00162671e-01  2.08166817e-17  0.00000000e+00  5.00162671e-01\n",
      "  6.93889390e-17  2.77555756e-16  5.00162671e-01  3.46944695e-17\n",
      "  5.55111512e-17  5.00162671e-01 -2.49800181e-16 -5.55111512e-17]\n",
      "Fidelity after classical learning PQC: 0.9707\n",
      "------------------Iteration 1: -----------------------\n",
      "\n",
      "initial fidelity 0.9457: \n"
     ]
    },
    {
     "name": "stderr",
     "output_type": "stream",
     "text": [
      "C:\\Users\\Mac\\AppData\\Roaming\\Python\\Python311\\site-packages\\stable_baselines3\\common\\vec_env\\patch_gym.py:49: UserWarning: You provided an OpenAI Gym environment. We strongly recommend transitioning to Gymnasium environments. Stable-Baselines3 is automatically wrapping your environments in a compatibility layer, which could potentially cause issues.\n",
      "  warnings.warn(\n",
      "C:\\Users\\Mac\\AppData\\Roaming\\Python\\Python311\\site-packages\\gym\\utils\\passive_env_checker.py:174: UserWarning: \u001b[33mWARN: Future gym versions will require that `Env.reset` can be passed a `seed` instead of using `Env.seed` for resetting the environment random number generator.\u001b[0m\n",
      "  logger.warn(\n",
      "C:\\Users\\Mac\\AppData\\Roaming\\Python\\Python311\\site-packages\\gym\\utils\\passive_env_checker.py:187: UserWarning: \u001b[33mWARN: Future gym versions will require that `Env.reset` can be passed `options` to allow the environment initialisation to be passed additional information.\u001b[0m\n",
      "  logger.warn(\n",
      "C:\\Users\\Mac\\AppData\\Roaming\\Python\\Python311\\site-packages\\gym\\utils\\passive_env_checker.py:195: UserWarning: \u001b[33mWARN: The result returned by `env.reset()` was not a tuple of the form `(obs, info)`, where `obs` is a observation and `info` is a dictionary containing additional information. Actual type: `<class 'numpy.ndarray'>`\u001b[0m\n",
      "  logger.warn(\n",
      "C:\\Users\\Mac\\AppData\\Roaming\\Python\\Python311\\site-packages\\gym\\utils\\passive_env_checker.py:219: DeprecationWarning: \u001b[33mWARN: Core environment is written in old step API which returns one bool instead of two. It is recommended to rewrite the environment with new step API. \u001b[0m\n",
      "  logger.deprecation(\n",
      "C:\\Users\\Mac\\AppData\\Roaming\\Python\\Python311\\site-packages\\gym\\utils\\passive_env_checker.py:225: DeprecationWarning: `np.bool8` is a deprecated alias for `np.bool_`.  (Deprecated NumPy 1.24)\n",
      "  if not isinstance(done, (bool, np.bool8)):\n",
      "C:\\Users\\Mac\\AppData\\Roaming\\Python\\Python311\\site-packages\\gym\\utils\\passive_env_checker.py:141: UserWarning: \u001b[33mWARN: The obs returned by the `step()` method was expecting numpy array dtype to be float32, actual type: float64\u001b[0m\n",
      "  logger.warn(\n",
      "C:\\Users\\Mac\\AppData\\Roaming\\Python\\Python311\\site-packages\\gym\\utils\\passive_env_checker.py:165: UserWarning: \u001b[33mWARN: The obs returned by the `step()` method is not within the observation space.\u001b[0m\n",
      "  logger.warn(f\"{pre} is not within the observation space.\")\n"
     ]
    },
    {
     "name": "stdout",
     "output_type": "stream",
     "text": [
      "[ 4.69817148e-01 -1.04083409e-17  5.55111512e-17  3.89146886e-01\n",
      " -5.55111512e-17 -5.55111512e-17  5.04238901e-01 -9.02056208e-17\n",
      " -5.55111512e-17  4.23220471e-01  2.84494650e-16  5.55111512e-17]\n",
      "Fidelity after classical learning PQC: 0.9611\n",
      "------------------Iteration 2: -----------------------\n",
      "\n",
      "initial fidelity 0.9546: \n"
     ]
    },
    {
     "name": "stderr",
     "output_type": "stream",
     "text": [
      "C:\\Users\\Mac\\AppData\\Roaming\\Python\\Python311\\site-packages\\stable_baselines3\\common\\vec_env\\patch_gym.py:49: UserWarning: You provided an OpenAI Gym environment. We strongly recommend transitioning to Gymnasium environments. Stable-Baselines3 is automatically wrapping your environments in a compatibility layer, which could potentially cause issues.\n",
      "  warnings.warn(\n",
      "C:\\Users\\Mac\\AppData\\Roaming\\Python\\Python311\\site-packages\\gym\\utils\\passive_env_checker.py:174: UserWarning: \u001b[33mWARN: Future gym versions will require that `Env.reset` can be passed a `seed` instead of using `Env.seed` for resetting the environment random number generator.\u001b[0m\n",
      "  logger.warn(\n",
      "C:\\Users\\Mac\\AppData\\Roaming\\Python\\Python311\\site-packages\\gym\\utils\\passive_env_checker.py:187: UserWarning: \u001b[33mWARN: Future gym versions will require that `Env.reset` can be passed `options` to allow the environment initialisation to be passed additional information.\u001b[0m\n",
      "  logger.warn(\n",
      "C:\\Users\\Mac\\AppData\\Roaming\\Python\\Python311\\site-packages\\gym\\utils\\passive_env_checker.py:195: UserWarning: \u001b[33mWARN: The result returned by `env.reset()` was not a tuple of the form `(obs, info)`, where `obs` is a observation and `info` is a dictionary containing additional information. Actual type: `<class 'numpy.ndarray'>`\u001b[0m\n",
      "  logger.warn(\n",
      "C:\\Users\\Mac\\AppData\\Roaming\\Python\\Python311\\site-packages\\gym\\utils\\passive_env_checker.py:219: DeprecationWarning: \u001b[33mWARN: Core environment is written in old step API which returns one bool instead of two. It is recommended to rewrite the environment with new step API. \u001b[0m\n",
      "  logger.deprecation(\n",
      "C:\\Users\\Mac\\AppData\\Roaming\\Python\\Python311\\site-packages\\gym\\utils\\passive_env_checker.py:225: DeprecationWarning: `np.bool8` is a deprecated alias for `np.bool_`.  (Deprecated NumPy 1.24)\n",
      "  if not isinstance(done, (bool, np.bool8)):\n",
      "C:\\Users\\Mac\\AppData\\Roaming\\Python\\Python311\\site-packages\\gym\\utils\\passive_env_checker.py:141: UserWarning: \u001b[33mWARN: The obs returned by the `step()` method was expecting numpy array dtype to be float32, actual type: float64\u001b[0m\n",
      "  logger.warn(\n",
      "C:\\Users\\Mac\\AppData\\Roaming\\Python\\Python311\\site-packages\\gym\\utils\\passive_env_checker.py:165: UserWarning: \u001b[33mWARN: The obs returned by the `step()` method is not within the observation space.\u001b[0m\n",
      "  logger.warn(f\"{pre} is not within the observation space.\")\n"
     ]
    },
    {
     "name": "stdout",
     "output_type": "stream",
     "text": [
      "[ 4.47249426e-01 -2.08166817e-17 -5.55111512e-17  3.89146886e-01\n",
      " -2.77555756e-17 -1.66533454e-16  4.82289360e-01 -1.17961196e-16\n",
      " -1.66533454e-16  4.25729484e-01  2.63677968e-16 -5.55111512e-17]\n",
      "Fidelity after classical learning PQC: 0.9602\n",
      "------------------Iteration 3: -----------------------\n",
      "\n",
      "initial fidelity 0.9575: \n"
     ]
    },
    {
     "name": "stderr",
     "output_type": "stream",
     "text": [
      "C:\\Users\\Mac\\AppData\\Roaming\\Python\\Python311\\site-packages\\stable_baselines3\\common\\vec_env\\patch_gym.py:49: UserWarning: You provided an OpenAI Gym environment. We strongly recommend transitioning to Gymnasium environments. Stable-Baselines3 is automatically wrapping your environments in a compatibility layer, which could potentially cause issues.\n",
      "  warnings.warn(\n",
      "C:\\Users\\Mac\\AppData\\Roaming\\Python\\Python311\\site-packages\\gym\\utils\\passive_env_checker.py:174: UserWarning: \u001b[33mWARN: Future gym versions will require that `Env.reset` can be passed a `seed` instead of using `Env.seed` for resetting the environment random number generator.\u001b[0m\n",
      "  logger.warn(\n",
      "C:\\Users\\Mac\\AppData\\Roaming\\Python\\Python311\\site-packages\\gym\\utils\\passive_env_checker.py:187: UserWarning: \u001b[33mWARN: Future gym versions will require that `Env.reset` can be passed `options` to allow the environment initialisation to be passed additional information.\u001b[0m\n",
      "  logger.warn(\n",
      "C:\\Users\\Mac\\AppData\\Roaming\\Python\\Python311\\site-packages\\gym\\utils\\passive_env_checker.py:195: UserWarning: \u001b[33mWARN: The result returned by `env.reset()` was not a tuple of the form `(obs, info)`, where `obs` is a observation and `info` is a dictionary containing additional information. Actual type: `<class 'numpy.ndarray'>`\u001b[0m\n",
      "  logger.warn(\n",
      "C:\\Users\\Mac\\AppData\\Roaming\\Python\\Python311\\site-packages\\gym\\utils\\passive_env_checker.py:219: DeprecationWarning: \u001b[33mWARN: Core environment is written in old step API which returns one bool instead of two. It is recommended to rewrite the environment with new step API. \u001b[0m\n",
      "  logger.deprecation(\n",
      "C:\\Users\\Mac\\AppData\\Roaming\\Python\\Python311\\site-packages\\gym\\utils\\passive_env_checker.py:225: DeprecationWarning: `np.bool8` is a deprecated alias for `np.bool_`.  (Deprecated NumPy 1.24)\n",
      "  if not isinstance(done, (bool, np.bool8)):\n",
      "C:\\Users\\Mac\\AppData\\Roaming\\Python\\Python311\\site-packages\\gym\\utils\\passive_env_checker.py:141: UserWarning: \u001b[33mWARN: The obs returned by the `step()` method was expecting numpy array dtype to be float32, actual type: float64\u001b[0m\n",
      "  logger.warn(\n",
      "C:\\Users\\Mac\\AppData\\Roaming\\Python\\Python311\\site-packages\\gym\\utils\\passive_env_checker.py:165: UserWarning: \u001b[33mWARN: The obs returned by the `step()` method is not within the observation space.\u001b[0m\n",
      "  logger.warn(f\"{pre} is not within the observation space.\")\n"
     ]
    },
    {
     "name": "stdout",
     "output_type": "stream",
     "text": [
      "[ 4.34599395e-01  2.07240193e-07  3.35387570e-08  3.89146886e-01\n",
      " -1.19538741e-06  5.91287881e-06  4.73954197e-01 -6.71056874e-06\n",
      "  8.19165448e-06  4.21896822e-01 -5.41175624e-07  9.05492046e-07]\n",
      "Fidelity after classical learning PQC: 0.9602\n",
      "------------------Iteration 4: -----------------------\n",
      "\n",
      "initial fidelity 0.9595: \n"
     ]
    },
    {
     "name": "stderr",
     "output_type": "stream",
     "text": [
      "C:\\Users\\Mac\\AppData\\Roaming\\Python\\Python311\\site-packages\\stable_baselines3\\common\\vec_env\\patch_gym.py:49: UserWarning: You provided an OpenAI Gym environment. We strongly recommend transitioning to Gymnasium environments. Stable-Baselines3 is automatically wrapping your environments in a compatibility layer, which could potentially cause issues.\n",
      "  warnings.warn(\n",
      "C:\\Users\\Mac\\AppData\\Roaming\\Python\\Python311\\site-packages\\gym\\utils\\passive_env_checker.py:174: UserWarning: \u001b[33mWARN: Future gym versions will require that `Env.reset` can be passed a `seed` instead of using `Env.seed` for resetting the environment random number generator.\u001b[0m\n",
      "  logger.warn(\n",
      "C:\\Users\\Mac\\AppData\\Roaming\\Python\\Python311\\site-packages\\gym\\utils\\passive_env_checker.py:187: UserWarning: \u001b[33mWARN: Future gym versions will require that `Env.reset` can be passed `options` to allow the environment initialisation to be passed additional information.\u001b[0m\n",
      "  logger.warn(\n",
      "C:\\Users\\Mac\\AppData\\Roaming\\Python\\Python311\\site-packages\\gym\\utils\\passive_env_checker.py:195: UserWarning: \u001b[33mWARN: The result returned by `env.reset()` was not a tuple of the form `(obs, info)`, where `obs` is a observation and `info` is a dictionary containing additional information. Actual type: `<class 'numpy.ndarray'>`\u001b[0m\n",
      "  logger.warn(\n",
      "C:\\Users\\Mac\\AppData\\Roaming\\Python\\Python311\\site-packages\\gym\\utils\\passive_env_checker.py:219: DeprecationWarning: \u001b[33mWARN: Core environment is written in old step API which returns one bool instead of two. It is recommended to rewrite the environment with new step API. \u001b[0m\n",
      "  logger.deprecation(\n",
      "C:\\Users\\Mac\\AppData\\Roaming\\Python\\Python311\\site-packages\\gym\\utils\\passive_env_checker.py:225: DeprecationWarning: `np.bool8` is a deprecated alias for `np.bool_`.  (Deprecated NumPy 1.24)\n",
      "  if not isinstance(done, (bool, np.bool8)):\n",
      "C:\\Users\\Mac\\AppData\\Roaming\\Python\\Python311\\site-packages\\gym\\utils\\passive_env_checker.py:141: UserWarning: \u001b[33mWARN: The obs returned by the `step()` method was expecting numpy array dtype to be float32, actual type: float64\u001b[0m\n",
      "  logger.warn(\n",
      "C:\\Users\\Mac\\AppData\\Roaming\\Python\\Python311\\site-packages\\gym\\utils\\passive_env_checker.py:165: UserWarning: \u001b[33mWARN: The obs returned by the `step()` method is not within the observation space.\u001b[0m\n",
      "  logger.warn(f\"{pre} is not within the observation space.\")\n"
     ]
    },
    {
     "name": "stdout",
     "output_type": "stream",
     "text": [
      "[ 4.25841515e-01  2.07240193e-07  2.05647103e-08  3.63372481e-01\n",
      " -1.19538741e-06  6.49119209e-06  4.14559812e-01 -5.86194966e-06\n",
      "  8.72669595e-06  3.79651250e-01 -1.91454457e-06  9.06546040e-07]\n",
      "Fidelity after classical learning PQC: 0.9601\n"
     ]
    }
   ],
   "source": [
    "import gym\n",
    "import numpy as np\n",
    "import torch.optim as optim\n",
    "from stable_baselines3 import PPO\n",
    "from stable_baselines3.common.evaluation import evaluate_policy\n",
    "import qas_gym\n",
    "import warnings\n",
    "\n",
    "# loop of quantum gradient and classical learning \n",
    "\n",
    "xi=0.2\n",
    "state_in=apply_circuit(optimal_gamma, optimal_beta, p, initial_state, H_c, H_b)\n",
    "\n",
    "env_name = 'BasicFourQubit-v0' # 四比特环境-无噪声\n",
    "reward_penalty = 0.01\n",
    "# max_timesteps = 5\n",
    "max_depth = 10\n",
    "max_iter = 5\n",
    "for i in range(max_iter):\n",
    "    print(\"\\n------------------ Iteration {}: ----------------------\".format(i))\n",
    "    #initial state from the last classical learning\n",
    "    if i>0: \n",
    "        state_in = info['state']\n",
    "\n",
    "    state_out=state_in-gradient(H_c, xi)@state_in\n",
    "\n",
    "    state_out = state_out/np.linalg.norm(state_out)\n",
    "\n",
    "    # # print(state_out)\n",
    "\n",
    "    f_ini = fidelity(state_out, state_in)\n",
    "    print(\"Initial fidelity {:.4f}: \".format(f_ini))\n",
    "    fidelity_threshold = min(0.95, f_ini*1.2)\n",
    "\n",
    "\n",
    "    # fidelity(state_out, state_out_pqc)\n",
    "\n",
    "    # expectation_value = np.real(np.vdot(state_out, H_c @ state_out))\n",
    "    # print(expectation_value)\n",
    "\n",
    "    with warnings.catch_warnings():\n",
    "        warnings.simplefilter(\"ignore\")\n",
    "        env = gym.make(env_name, target = state_out,\n",
    "                fidelity_threshold=fidelity_threshold,\n",
    "                reward_penalty=reward_penalty,\n",
    "                max_timesteps=max_depth,\n",
    "                initial = state_in)\n",
    "\n",
    "        info,ppo_model = PQC_RL(env)\n",
    "    \n",
    "    print(\"Fidelity after classical learning PQC: {:.4f}\".format(info['fidelity']))\n"
   ]
  },
  {
   "cell_type": "code",
   "execution_count": null,
   "metadata": {},
   "outputs": [
    {
     "name": "stdout",
     "output_type": "stream",
     "text": [
      "\n",
      "0: ───I───YY───XX───YY─────────────XX─────────────\n",
      "          │    │    │              │\n",
      "1: ───I───YY───┼────┼────XX───XX───┼────XX────────\n",
      "               │    │    │    │    │    │\n",
      "2: ───I────────┼────┼────┼────┼────┼────┼────XX───\n",
      "               │    │    │    │    │    │    │\n",
      "3: ───I────────XX───YY───XX───XX───XX───XX───XX───\n"
     ]
    }
   ],
   "source": [
    "# Visualze the final circuit\n",
    "env.render()"
   ]
  }
 ],
 "metadata": {
  "kernelspec": {
   "display_name": "quantum",
   "language": "python",
   "name": "python3"
  },
  "language_info": {
   "codemirror_mode": {
    "name": "ipython",
    "version": 3
   },
   "file_extension": ".py",
   "mimetype": "text/x-python",
   "name": "python",
   "nbconvert_exporter": "python",
   "pygments_lexer": "ipython3",
   "version": "3.11.8"
  }
 },
 "nbformat": 4,
 "nbformat_minor": 2
}
